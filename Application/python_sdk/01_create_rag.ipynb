{
 "cells": [
  {
   "cell_type": "markdown",
   "id": "cec7fb9b",
   "metadata": {},
   "source": [
    "# AWS Bedrock RAG Infrastructure Setup\n",
    "\n",
    "This notebook guides you through creating AWS infrastructure for a Bedrock RAG implementation.\n",
    "**VPC creation is handled by an external script (`create_vpc_script.py`).**\n",
    "Subsequent resources (Aurora, S3, Bedrock KB) are created step-by-step in this notebook."
   ]
  },
  {
   "cell_type": "markdown",
   "id": "870171b6",
   "metadata": {},
   "source": [
    "## 1. Imports\n",
    "Import necessary libraries. "
   ]
  },
  {
   "cell_type": "code",
   "execution_count": 1,
   "id": "3f39e205",
   "metadata": {},
   "outputs": [],
   "source": [
    "import boto3\n",
    "import json\n",
    "import time\n",
    "import random\n",
    "import string\n",
    "import subprocess # For running the external script\n",
    "import os\n",
    "import sys\n",
    "from botocore.exceptions import ClientError"
   ]
  },
  {
   "cell_type": "markdown",
   "id": "70432fb6",
   "metadata": {},
   "source": [
    "## 2. Configuration\n",
    "Define configuration variables for the infrastructure."
   ]
  },
  {
   "cell_type": "code",
   "execution_count": null,
   "id": "e3caf373",
   "metadata": {},
   "outputs": [],
   "source": [
    "REGION = 'us-west-2' # Or your desired region\n",
    "VPC_NAME = '' # Base name used by the VPC script"
   ]
  },
  {
   "cell_type": "code",
   "execution_count": null,
   "id": "975de124",
   "metadata": {},
   "outputs": [],
   "source": [
    "# Aurora Config\n",
    "AURORA_CLUSTER_ENDPOINT = \"\" # Changed name slightly\n",
    "AURORA_ARN = \"\"\n",
    "AURORA_SECRET_ARN = \"\""
   ]
  },
  {
   "cell_type": "code",
   "execution_count": 36,
   "id": "a8079e72",
   "metadata": {},
   "outputs": [],
   "source": [
    "# Bedrock KB Config\n",
    "KB_NAME = \"my-bedrock-kb-func\" # Changed name slightly\n",
    "# Schema/table/fields KB expects (MUST be created manually in DB beforehand)\n",
    "AURORA_KB_SCHEMA_NAME = \"postgres\"\n",
    "AURORA_KB_TABLE_NAME = \"bedrock_integration.embeddings\"\n",
    "AURORA_KB_PK_FIELD = \"id\"\n",
    "AURORA_KB_METADATA_FIELD = \"metadata\"\n",
    "AURORA_KB_TEXT_FIELD = \"text_content\"\n",
    "AURORA_KB_VECTOR_FIELD = \"embedding\"\n",
    "EMBEDDING_MODEL_ARN = f'arn:aws:bedrock:{REGION}::foundation-model/amazon.titan-embed-text-v2:0'"
   ]
  },
  {
   "cell_type": "code",
   "execution_count": null,
   "id": "b85e5008",
   "metadata": {},
   "outputs": [],
   "source": [
    "# Other Variables (will be populated after client initialization)\n",
    "ACCOUNT_ID = None\n",
    "S3_BUCKET_NAME = None # Will be set after getting account ID\n",
    "\n",
    "# Dictionary to store resource details as they are created\n",
    "created_resources = {}"
   ]
  },
  {
   "cell_type": "markdown",
   "id": "c6f35e23",
   "metadata": {},
   "source": [
    "## 3. Initialize AWS Clients\n",
    "Create Boto3 clients needed for the different services."
   ]
  },
  {
   "cell_type": "code",
   "execution_count": 6,
   "id": "14bda1ab",
   "metadata": {},
   "outputs": [
    {
     "name": "stdout",
     "output_type": "stream",
     "text": [
      "Initializing Boto3 clients for region: us-west-2...\n"
     ]
    }
   ],
   "source": [
    "print(f\"Initializing Boto3 clients for region: {REGION}...\")\n",
    "session = boto3.Session(region_name=REGION)\n",
    "\n",
    "# Clients\n",
    "sts_client = session.client('sts')\n",
    "ec2_client = session.client('ec2')\n",
    "rds_client = session.client('rds')\n",
    "s3_client = session.client('s3')\n",
    "iam_client = session.client('iam')\n",
    "bedrock_agent_client = session.client('bedrock-agent')\n",
    "secretsmanager_client = session.client('secretsmanager')"
   ]
  },
  {
   "cell_type": "code",
   "execution_count": 7,
   "id": "18978fbc",
   "metadata": {},
   "outputs": [
    {
     "name": "stdout",
     "output_type": "stream",
     "text": [
      "AWS Account ID: 058264544288\n",
      "Target S3 Bucket Name: bedrock-kb-058264544288-us-west-2\n"
     ]
    }
   ],
   "source": [
    "# Get Account ID\n",
    "try:\n",
    "    ACCOUNT_ID = sts_client.get_caller_identity()['Account']\n",
    "    print(f\"AWS Account ID: {ACCOUNT_ID}\")\n",
    "    # Set bucket name now that we have Account ID\n",
    "    S3_BUCKET_NAME = f\"bedrock-kb-{ACCOUNT_ID}-{REGION}\" # Unique bucket name\n",
    "    print(f\"Target S3 Bucket Name: {S3_BUCKET_NAME}\")\n",
    "except ClientError as e:\n",
    "    raise Exception(f\"Could not get AWS Account ID. Check credentials/permissions: {e}\")"
   ]
  },
  {
   "cell_type": "markdown",
   "id": "05762072",
   "metadata": {},
   "source": [
    "## 4. Prepare Aurora Postgress for KB\n",
    "Run the scripts to prepare the Postgress DB for KB"
   ]
  },
  {
   "cell_type": "code",
   "execution_count": 8,
   "id": "57b2202b",
   "metadata": {},
   "outputs": [],
   "source": [
    "import psycopg2 as pg\n",
    "\n",
    "get_secret_value_response = secretsmanager_client.get_secret_value(\n",
    "            SecretId=AURORA_SECRET_ARN\n",
    "        )\n",
    "\n",
    "credentials = json.loads(get_secret_value_response['SecretString'])\n",
    "\n",
    "conn = pg.connect(\n",
    "        host=AURORA_CLUSTER_ENDPOINT,\n",
    "        user=credentials['username'],\n",
    "        database=\"postgres\",\n",
    "        password=credentials['password']\n",
    "    )"
   ]
  },
  {
   "cell_type": "code",
   "execution_count": 9,
   "id": "6055cfac",
   "metadata": {},
   "outputs": [],
   "source": [
    "bedrock_db_password = \"something\""
   ]
  },
  {
   "cell_type": "code",
   "execution_count": 10,
   "id": "74088e35",
   "metadata": {},
   "outputs": [
    {
     "name": "stdout",
     "output_type": "stream",
     "text": [
      "Extension completed successfully\n",
      "SCHEMA completed successfully\n",
      "Grant completed successfully\n",
      "Create table completed successfully\n",
      "Change to role completed successfully\n",
      "Cretate index completed successfully\n",
      "Database initialization completed successfully\n"
     ]
    }
   ],
   "source": [
    "try:\n",
    "    cur = conn.cursor()\n",
    "    # Create pgvector extension\n",
    "    cur.execute('CREATE EXTENSION IF NOT EXISTS vector;')\n",
    "\n",
    "    conn.commit()\n",
    "    print(\"Extension completed successfully\")\n",
    "\n",
    "    cur.execute('CREATE SCHEMA IF NOT EXISTS bedrock_integration;')\n",
    "    conn.commit()\n",
    "    print(\"SCHEMA completed successfully\")\n",
    "\n",
    "    try:\n",
    "        cur.execute(f\"CREATE ROLE bedrock_user WITH PASSWORD '{bedrock_db_password}' LOGIN;\")\n",
    "        conn.commit()\n",
    "    except Exception as e:\n",
    "        print(f\"Error creating user: {e}\")\n",
    "        cur.execute(\"ROLLBACK\")\n",
    "        conn.commit()\n",
    "\n",
    "    cur.execute('GRANT ALL ON SCHEMA bedrock_integration to bedrock_user;')\n",
    "    conn.commit()\n",
    "\n",
    "    print(\"Grant completed successfully\")\n",
    "    \n",
    "    # Create table for storing embeddings\n",
    "    cur.execute('''\n",
    "        CREATE TABLE IF NOT EXISTS bedrock_integration.embeddings (\n",
    "            id uuid PRIMARY KEY,\n",
    "            text_content TEXT NOT NULL,\n",
    "            embedding vector(1024),  -- Dimension size for text embeddings\n",
    "            metadata JSONB,\n",
    "            created_at TIMESTAMP WITH TIME ZONE DEFAULT CURRENT_TIMESTAMP\n",
    "        );\n",
    "    ''')\n",
    "    print(\"Create table completed successfully\")\n",
    "\n",
    "    cur.execute(\"\"\"ALTER TABLE bedrock_integration.embeddings OWNER TO bedrock_user;\"\"\")\n",
    "    conn.commit()\n",
    "\n",
    "    cur.execute(\"SET SESSION AUTHORIZATION bedrock_user;\")\n",
    "    conn.commit()\n",
    "    print(\"Change to role completed successfully\")\n",
    "    \n",
    "    # Create index for vector similarity search\n",
    "    cur.execute('''\n",
    "        CREATE INDEX ON bedrock_integration.embeddings USING hnsw (embedding vector_cosine_ops) WITH (ef_construction=256)\n",
    "    ''')\n",
    "    print(\"Cretate index completed successfully\")\n",
    "    \n",
    "    conn.commit()\n",
    "\n",
    "    cur.execute('''\n",
    "                CREATE INDEX ON bedrock_integration.embeddings USING gin (to_tsvector('simple', text_content))\n",
    "                ''')\n",
    "    print(\"Cretate index completed successfully\")\n",
    "    print(\"Database initialization completed successfully\")\n",
    "\n",
    "        \n",
    "except Exception as e:\n",
    "    print(f\"Error initializing database: {e}\")\n",
    "    conn.rollback()\n",
    "    code = 500\n",
    "    message = f\"Error initializing database: {e}\"\n",
    "finally:\n",
    "    cur.close()\n",
    "    conn.close()"
   ]
  },
  {
   "cell_type": "markdown",
   "id": "7b34690d",
   "metadata": {},
   "source": [
    "## 5. Create Bedrock Knowledge Base\n",
    "\n",
    "Create a knoweldge Base with Aurora Postgres DB as vector database"
   ]
  },
  {
   "cell_type": "markdown",
   "id": "caefc664",
   "metadata": {},
   "source": [
    "Create role for the KB to assume"
   ]
  },
  {
   "cell_type": "code",
   "execution_count": 11,
   "id": "d9463045",
   "metadata": {},
   "outputs": [
    {
     "name": "stdout",
     "output_type": "stream",
     "text": [
      "    Created Role ARN: arn:aws:iam::058264544288:role/my-bedrock-kb-func-execution-role. Waiting 15s for propagation...\n"
     ]
    }
   ],
   "source": [
    "role_name = f\"{KB_NAME}-execution-role\"\n",
    "\n",
    "assume_role_policy = json.dumps({\"Version\": \"2012-10-17\", \"Statement\": [{\"Effect\": \"Allow\", \"Principal\": {\"Service\": \"bedrock.amazonaws.com\"}, \"Action\": \"sts:AssumeRole\"}]})\n",
    "\n",
    "role_response = iam_client.create_role(RoleName=role_name, AssumeRolePolicyDocument=assume_role_policy, Description=f\"Execution role for KB {KB_NAME}\", Tags=[{'Key': 'Name', 'Value': role_name}])\n",
    "role_arn = role_response['Role']['Arn']\n",
    "\n",
    "print(f\"Created Role ARN: {role_arn}. Waiting 15s for propagation...\")"
   ]
  },
  {
   "cell_type": "code",
   "execution_count": 24,
   "id": "351ceb51",
   "metadata": {},
   "outputs": [
    {
     "name": "stdout",
     "output_type": "stream",
     "text": [
      "Attaching Inline Policy: my-bedrock-kb-func-execution-policy-inline to role my-bedrock-kb-func-execution-role\n"
     ]
    }
   ],
   "source": [
    "kb_policy_name = f\"{KB_NAME}-execution-policy-inline\"\n",
    "kb_policy_document = json.dumps({\"Version\": \"2012-10-17\", \"Statement\": [\n",
    "        {\"Sid\": \"S3Permissions\", \"Effect\": \"Allow\", \"Action\": [\"s3:GetObject\", \"s3:ListBucket\"], \"Resource\": [f\"arn:aws:s3:::{S3_BUCKET_NAME}\", f\"arn:aws:s3:::{S3_BUCKET_NAME}/*\"]},\n",
    "        {\"Sid\": \"BedrockInvokeModel\", \"Effect\": \"Allow\", \"Action\": \"bedrock:InvokeModel\", \"Resource\": EMBEDDING_MODEL_ARN},\n",
    "        {\"Sid\": \"RDSDataAPIPermissions\", \"Effect\": \"Allow\", \"Action\": [\"rds-data:ExecuteStatement\", \"rds-data:BatchExecuteStatement\", \"rds-data:BeginTransaction\", \"rds-data:CommitTransaction\", \"rds-data:RollbackTransaction\"], \"Resource\": AURORA_ARN},\n",
    "        {\"Sid\": \"RDSDescribeCluster\", \"Effect\": \"Allow\", \"Action\": [\"rds:DescribeDBClusters\"], \"Resource\": \"*\"},\n",
    "        {\"Sid\": \"SecretsManagerPermissions\", \"Effect\": \"Allow\", \"Action\": \"secretsmanager:GetSecretValue\", \"Resource\": AURORA_SECRET_ARN}\n",
    "    ]})\n",
    "\n",
    "print(f\"Attaching Inline Policy: {kb_policy_name} to role {role_name}\")"
   ]
  },
  {
   "cell_type": "code",
   "execution_count": 25,
   "id": "3311005a",
   "metadata": {},
   "outputs": [
    {
     "name": "stdout",
     "output_type": "stream",
     "text": [
      "Policy attached. Waiting 10s...\n"
     ]
    }
   ],
   "source": [
    "iam_client.put_role_policy(RoleName=role_name, PolicyName=kb_policy_name, PolicyDocument=kb_policy_document)\n",
    "print(f\"Policy attached. Waiting 10s...\")"
   ]
  },
  {
   "cell_type": "markdown",
   "id": "755d5be0",
   "metadata": {},
   "source": [
    "Create Knowledgebase"
   ]
  },
  {
   "cell_type": "code",
   "execution_count": 26,
   "id": "41242e73",
   "metadata": {},
   "outputs": [
    {
     "name": "stdout",
     "output_type": "stream",
     "text": [
      "None\n"
     ]
    }
   ],
   "source": [
    "list_kbs_response = bedrock_agent_client.list_knowledge_bases()\n",
    "existing_kb = next((kb for kb in list_kbs_response.get('knowledgeBaseSummaries', []) if kb['name'] == KB_NAME), None)\n",
    "\n",
    "print(existing_kb)"
   ]
  },
  {
   "cell_type": "code",
   "execution_count": 40,
   "id": "6972ef29",
   "metadata": {},
   "outputs": [
    {
     "name": "stdout",
     "output_type": "stream",
     "text": [
      "Knowledge Base created with ID: 950X2HZVWA, ARN: arn:aws:bedrock:us-west-2:058264544288:knowledge-base/950X2HZVWA\n"
     ]
    }
   ],
   "source": [
    "kb_response = bedrock_agent_client.create_knowledge_base(\n",
    "                name=KB_NAME, \n",
    "                description=f\"KB for RAG using {AURORA_CLUSTER_ENDPOINT}\", roleArn=role_arn,\n",
    "                knowledgeBaseConfiguration={'type': 'VECTOR', 'vectorKnowledgeBaseConfiguration': {'embeddingModelArn': EMBEDDING_MODEL_ARN}},\n",
    "                storageConfiguration={'type': 'RDS', 'rdsConfiguration': {\n",
    "                    'resourceArn': AURORA_ARN, 'credentialsSecretArn': AURORA_SECRET_ARN, 'databaseName': AURORA_KB_SCHEMA_NAME,\n",
    "                    'tableName': AURORA_KB_TABLE_NAME, 'fieldMapping': {\n",
    "                        'primaryKeyField': AURORA_KB_PK_FIELD, 'vectorField': AURORA_KB_VECTOR_FIELD,\n",
    "                        'textField': AURORA_KB_TEXT_FIELD, 'metadataField': AURORA_KB_METADATA_FIELD\n",
    "                        }\n",
    "                    }\n",
    "                }, \n",
    "                tags={'Name': KB_NAME}\n",
    "             )\n",
    "\n",
    "kb_id = kb_response['knowledgeBase']['knowledgeBaseId']\n",
    "kb_arn = kb_response['knowledgeBase']['knowledgeBaseArn']\n",
    "print(f\"Knowledge Base created with ID: {kb_id}, ARN: {kb_arn}\")"
   ]
  },
  {
   "cell_type": "markdown",
   "id": "f4e5ad4f",
   "metadata": {},
   "source": [
    "## 6. Create S3 Data Source\n",
    "\n",
    "Create a data source for the knoweldge base"
   ]
  },
  {
   "cell_type": "code",
   "execution_count": 41,
   "id": "ddc0e363",
   "metadata": {},
   "outputs": [
    {
     "name": "stdout",
     "output_type": "stream",
     "text": [
      "None\n"
     ]
    }
   ],
   "source": [
    "data_source_name = 's3-docs-source'\n",
    "\n",
    "list_ds_response = bedrock_agent_client.list_data_sources(knowledgeBaseId=kb_id)\n",
    "existing_ds = next((ds for ds in list_ds_response.get('dataSourceSummaries', []) if ds['name'] == data_source_name), None)\n",
    "\n",
    "print(existing_ds)"
   ]
  },
  {
   "cell_type": "code",
   "execution_count": 42,
   "id": "3cb6b93a",
   "metadata": {},
   "outputs": [
    {
     "name": "stdout",
     "output_type": "stream",
     "text": [
      "    Data Source created with ID: FU7NDDLCCH\n",
      "    Waiting for Data Source status AVAILABLE...\n"
     ]
    }
   ],
   "source": [
    "data_source_response = bedrock_agent_client.create_data_source(\n",
    "                knowledgeBaseId=kb_id, name=data_source_name, description=f\"S3 source: {S3_BUCKET_NAME}\",\n",
    "                dataSourceConfiguration={'type': 'S3', 's3Configuration': {'bucketArn': f\"arn:aws:s3:::{S3_BUCKET_NAME}\"}}\n",
    "             )\n",
    "data_source_id = data_source_response['dataSource']['dataSourceId']\n",
    "print(f\"    Data Source created with ID: {data_source_id}\")\n",
    "\n",
    "print(\"    Waiting for Data Source status AVAILABLE...\")\n",
    "        "
   ]
  },
  {
   "cell_type": "code",
   "execution_count": 43,
   "id": "49aa2641",
   "metadata": {},
   "outputs": [
    {
     "name": "stdout",
     "output_type": "stream",
     "text": [
      "      Current status: AVAILABLE\n"
     ]
    }
   ],
   "source": [
    "while True:\n",
    "    ds_status_response = bedrock_agent_client.get_data_source(knowledgeBaseId=kb_id, dataSourceId=data_source_id)\n",
    "    status = ds_status_response['dataSource']['status']\n",
    "    print(f\"      Current status: {status}\")\n",
    "    if status == 'AVAILABLE': break\n",
    "    elif status == 'DELETE_UNSUCCESSFUL': raise Exception(f\"Data Source {status}: {ds_status_response['dataSource'].get('failureReasons', ['Unknown'])}\")\n",
    "    time.sleep(20)"
   ]
  },
  {
   "cell_type": "code",
   "execution_count": null,
   "id": "a5edc508",
   "metadata": {},
   "outputs": [],
   "source": []
  }
 ],
 "metadata": {
  "kernelspec": {
   "display_name": "bedrockapp",
   "language": "python",
   "name": "python3"
  },
  "language_info": {
   "codemirror_mode": {
    "name": "ipython",
    "version": 3
   },
   "file_extension": ".py",
   "mimetype": "text/x-python",
   "name": "python",
   "nbconvert_exporter": "python",
   "pygments_lexer": "ipython3",
   "version": "3.12.0"
  }
 },
 "nbformat": 4,
 "nbformat_minor": 5
}
