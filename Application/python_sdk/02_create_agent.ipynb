{
 "cells": [
  {
   "cell_type": "markdown",
   "id": "37be889d",
   "metadata": {},
   "source": [
    "# AWS Bedrock RAG Infrastructure Setup\n",
    "\n",
    "This notebook guides you through creating AWS infrastructure for a Bedrock RAG implementation.\n",
    "**VPC creation is handled by an external script (`create_vpc_script.py`).**\n",
    "Subsequent resources (Aurora, S3, Bedrock KB) are created step-by-step in this notebook."
   ]
  },
  {
   "cell_type": "markdown",
   "id": "7dd03588",
   "metadata": {},
   "source": [
    "# 1. Imports\n",
    "Import necessary libraries"
   ]
  },
  {
   "cell_type": "code",
   "execution_count": 11,
   "id": "ae5f5910",
   "metadata": {},
   "outputs": [],
   "source": [
    "import boto3\n",
    "import json\n",
    "from botocore.exceptions import ClientError\n",
    "import time\n",
    "import zipfile\n",
    "import os\n",
    "import io"
   ]
  },
  {
   "cell_type": "markdown",
   "id": "b8587ced",
   "metadata": {},
   "source": [
    "# 2. Configuration\n",
    "Define configuration variables for the infrastructure."
   ]
  },
  {
   "cell_type": "code",
   "execution_count": null,
   "id": "c664ad71",
   "metadata": {},
   "outputs": [],
   "source": [
    "AGENT_NAME = \"AppDemoAgentWKB\"  # Choose a unique name for your agent\n",
    "KNOWLEDGE_BASE_ID = \"\" # e.g., \"ABCDEFGHIJ\"\n",
    "KNOWLEDGE_BASE_ARN = \"\" # e.g., \"arn:aws:bedrock:us-east-1:123456789012:knowledge-base/ABCDEFGHIJ\"\n",
    "AGENT_EXECUTION_ROLE_ARN = \"\" # e.g., \"arn:aws:iam::123456789012:role/MyBedrockAgentRole\"\n",
    "FOUNDATION_MODEL_ARN = \"arn:aws:bedrock:us-west-2::foundation-model/amazon.nova-lite-v1:0\" # Example: Change to your desired model/region\n",
    "\n",
    "# ** OPTIONAL: Customize these values **\n",
    "AGENT_DESCRIPTION = \"Agent specialized in construction and heavy machines with access to knowledgebase and data in relationaldatabase\"\n",
    "AGENT_INSTRUCTION = \"\"\"\n",
    "You are a helpful customer support agent.\n",
    "Your goal is to answer customer questions accurately based *only* on the information provided in the attached knowledge base.\n",
    "If the knowledge base does not contain the answer, clearly state that the information is not available in the provided documents.\n",
    "Do not make up answers or use external knowledge.\n",
    "Be polite and concise.\n",
    "\"\"\"\n",
    "IDLE_SESSION_TTL_SECONDS = 1800  # 30 minutes timeout\n",
    "AWS_REGION = \"us-west-2\" # Change if your KB/resources are in a different region\n"
   ]
  },
  {
   "cell_type": "code",
   "execution_count": 3,
   "id": "c6c0acbf",
   "metadata": {},
   "outputs": [],
   "source": [
    "try:\n",
    "    bedrock_agent_client = boto3.client('bedrock-agent', region_name=AWS_REGION)\n",
    "except Exception as e:\n",
    "    print(f\"Error creating Boto3 client: {e}\")\n",
    "    exit()"
   ]
  },
  {
   "cell_type": "code",
   "execution_count": 4,
   "id": "3847e2db",
   "metadata": {},
   "outputs": [],
   "source": [
    "knowledge_base_configuration = [\n",
    "    {\n",
    "        'knowledgeBaseId': KNOWLEDGE_BASE_ID,\n",
    "        'description': \"Use this knowledge base to find information about product features, setup, and troubleshooting.\"\n",
    "    }\n",
    "]"
   ]
  },
  {
   "cell_type": "markdown",
   "id": "0b8e12d7",
   "metadata": {},
   "source": [
    "# 3. Create Bedrock Agent\n",
    "Creates a Bedrock Agent that connects with a lambda function and a previously created knowledgebase."
   ]
  },
  {
   "cell_type": "code",
   "execution_count": 5,
   "id": "80299238",
   "metadata": {},
   "outputs": [],
   "source": [
    "FUNCTION_NAME = \"ApplicationDemoDBRetrieval\" # Choose a unique name for your Lambda function\n",
    "IAM_ROLE_NAME = \"MyLambdaBasicExecutionRole\" \n",
    "\n",
    "BASIC_EXECUTION_POLICY_ARN = \"arn:aws:iam::aws:policy/service-role/AWSLambdaBasicExecutionRole\"\n",
    "\n",
    "# ** OPTIONAL: Customize these values **\n",
    "FUNCTION_DESCRIPTION = \"Lambda function to retrieve database data for Bedrock Agent.\"\n",
    "RUNTIME = \"python3.12\" # Choose a supported Python runtime (e.g., python3.9, python3.10, python3.11, python3.12)\n",
    "HANDLER = \"lambda_function.lambda_handler\" # Standard handler for Python: filename.function_name\n",
    "MEMORY_SIZE = 128 # Memory in MB\n",
    "TIMEOUT = 30 # Timeout in seconds\n",
    "AWS_REGION = \"us-west-2\" # Change to your desired AWS region"
   ]
  },
  {
   "cell_type": "code",
   "execution_count": 6,
   "id": "464abbc4",
   "metadata": {},
   "outputs": [],
   "source": [
    "assume_role_policy_document = json.dumps({\n",
    "    \"Version\": \"2012-10-17\",\n",
    "    \"Statement\": [\n",
    "        {\n",
    "            \"Effect\": \"Allow\",\n",
    "            \"Principal\": {\n",
    "                \"Service\": \"lambda.amazonaws.com\"\n",
    "            },\n",
    "            \"Action\": \"sts:AssumeRole\"\n",
    "        }\n",
    "    ]\n",
    "})"
   ]
  },
  {
   "cell_type": "code",
   "execution_count": 7,
   "id": "fa4fc261",
   "metadata": {},
   "outputs": [],
   "source": [
    "iam_client = boto3.client('iam', region_name=AWS_REGION)"
   ]
  },
  {
   "cell_type": "code",
   "execution_count": 8,
   "id": "2186bb82",
   "metadata": {},
   "outputs": [],
   "source": [
    "create_role_response = iam_client.create_role(\n",
    "        RoleName=IAM_ROLE_NAME,\n",
    "        AssumeRolePolicyDocument=assume_role_policy_document,\n",
    "        Description=\"IAM role assumed by the MyOrderStatusChecker Lambda function for basic execution permissions (CloudWatch Logs).\"\n",
    "        # You can add tags here if needed:\n",
    "        # Tags=[{'Key': 'Project', 'Value': 'BedrockAgentDemo'}]\n",
    "    )\n",
    "role_arn = create_role_response['Role']['Arn']\n",
    "role_id = create_role_response['Role']['RoleId']\n",
    "\n",
    "LAMBDA_EXECUTION_ROLE_ARN = role_arn"
   ]
  },
  {
   "cell_type": "code",
   "execution_count": 9,
   "id": "ae304511",
   "metadata": {},
   "outputs": [],
   "source": [
    "lambda_code = \"\"\"\n",
    "import json\n",
    "import logging\n",
    "\n",
    "logger = logging.getLogger()\n",
    "logger.setLevel(logging.INFO)\n",
    "\n",
    "def lambda_handler(event, context):\n",
    "    '''\n",
    "    Handles the incoming event from the Bedrock Agent Action Group.\n",
    "    Expects the orderId to be passed via pathParameters.\n",
    "    '''\n",
    "    logger.info(f\"Received event: {json.dumps(event)}\")\n",
    "\n",
    "    response_code = 200\n",
    "    response_body = {}\n",
    "\n",
    "    try:\n",
    "        # Bedrock Agent invoking a Lambda via API Gateway definition\n",
    "        # often structures the event like an API Gateway proxy event.\n",
    "        # Check for pathParameters first.\n",
    "        if 'pathParameters' in event and event['pathParameters'] and 'orderId' in event['pathParameters']:\n",
    "             order_id = event['pathParameters']['orderId']\n",
    "             logger.info(f\"Extracted orderId: {order_id} from pathParameters\")\n",
    "        # Fallback: Check if the input payload itself contains the orderId (less common for GET via OpenAPI path)\n",
    "        elif 'orderId' in event:\n",
    "             order_id = event['orderId']\n",
    "             logger.info(f\"Extracted orderId: {order_id} from event body\")\n",
    "        else:\n",
    "            # If Bedrock passes parameters differently (e.g., in requestBody), adjust extraction logic here.\n",
    "            # The exact structure depends on how Bedrock maps the OpenAPI spec to the Lambda input.\n",
    "            # Checking the actual event logged by Lambda during testing is crucial.\n",
    "            logger.warning(\"Could not find 'orderId' in expected locations (event.pathParameters.orderId or event.orderId)\")\n",
    "            # Attempt to find it in a potential request body if content type was application/json in OpenAPI\n",
    "            request_body_str = event.get('requestBody', {}).get('content', {}).get('application/json', {}).get('body', '{}')\n",
    "            try:\n",
    "                request_body = json.loads(request_body_str)\n",
    "                if 'orderId' in request_body.get('properties', {}): # Check based on common agent structures\n",
    "                     order_id_prop = next((prop for prop in request_body['properties'] if prop['name'] == 'orderId'), None)\n",
    "                     if order_id_prop:\n",
    "                         order_id = order_id_prop['value']\n",
    "                         logger.info(f\"Extracted orderId: {order_id} from requestBody properties\")\n",
    "                     else:\n",
    "                         raise ValueError(\"orderId property not found in requestBody\")\n",
    "                else:\n",
    "                     raise ValueError(\"orderId not found in requestBody properties\")\n",
    "            except (json.JSONDecodeError, ValueError, KeyError) as e:\n",
    "                logger.error(f\"Failed to extract orderId from requestBody: {e}\")\n",
    "                raise ValueError(\"Missing required parameter: orderId\")\n",
    "\n",
    "\n",
    "        # --- Mock Order Status Logic ---\n",
    "        # Replace this with your actual logic to check order status (e.g., database query)\n",
    "        mock_database = {\n",
    "            \"12345\": {\"status\": \"Shipped\", \"estimatedDelivery\": \"2025-05-10\"},\n",
    "            \"67890\": {\"status\": \"Processing\", \"estimatedDelivery\": \"2025-05-15\"},\n",
    "            \"ABCDE\": {\"status\": \"Delivered\", \"estimatedDelivery\": \"2025-05-01\"}\n",
    "        }\n",
    "\n",
    "        if order_id in mock_database:\n",
    "            order_details = mock_database[order_id]\n",
    "            response_body = {\n",
    "                \"orderId\": order_id,\n",
    "                \"status\": order_details[\"status\"],\n",
    "                \"estimatedDelivery\": order_details[\"estimatedDelivery\"]\n",
    "            }\n",
    "            logger.info(f\"Found order details: {response_body}\")\n",
    "        else:\n",
    "            logger.warning(f\"Order ID '{order_id}' not found.\")\n",
    "            response_code = 404\n",
    "            response_body = {\"message\": f\"Order with ID '{order_id}' not found.\"}\n",
    "        # --- End Mock Logic ---\n",
    "\n",
    "    except ValueError as ve: # Specific error for missing parameter\n",
    "        logger.error(f\"Value Error: {ve}\")\n",
    "        response_code = 400 # Bad Request\n",
    "        response_body = {\"message\": str(ve)}\n",
    "    except Exception as e:\n",
    "        logger.error(f\"An unexpected error occurred: {e}\", exc_info=True)\n",
    "        response_code = 500 # Internal Server Error\n",
    "        response_body = {\"message\": \"Internal server error while processing the order status.\"}\n",
    "\n",
    "    # Format the response payload expected by the Bedrock Agent/API Gateway integration\n",
    "    # The agent expects a JSON response matching the OpenAPI schema's '200' response definition.\n",
    "    return {\n",
    "        'statusCode': response_code,\n",
    "        'headers': {\n",
    "            'Content-Type': 'application/json'\n",
    "        },\n",
    "        'body': json.dumps(response_body)\n",
    "        # Bedrock Agent might simplify this; check agent trace/logs if needed.\n",
    "        # Sometimes it just needs the core JSON body if not using API Gateway directly.\n",
    "        # For direct Lambda invocation via action group, the structure might be simpler:\n",
    "        # return response_body # If statusCode/headers aren't needed by Bedrock directly\n",
    "    }\n",
    "\n",
    "\"\"\""
   ]
  },
  {
   "cell_type": "code",
   "execution_count": 12,
   "id": "b4782b42",
   "metadata": {},
   "outputs": [],
   "source": [
    "zip_buffer = io.BytesIO()\n",
    "with zipfile.ZipFile(zip_buffer, 'w', zipfile.ZIP_DEFLATED) as zipf:\n",
    "    # Write the lambda code to a file named lambda_function.py within the zip\n",
    "    # The filename must match the first part of the HANDLER variable\n",
    "    zipf.writestr('lambda_function.py', lambda_code)\n",
    "\n",
    "zip_buffer.seek(0) # Rewind the buffer to the beginning\n",
    "deployment_package = zip_buffer.read()"
   ]
  },
  {
   "cell_type": "code",
   "execution_count": 13,
   "id": "07f668ca",
   "metadata": {},
   "outputs": [],
   "source": [
    "lambda_client = boto3.client('lambda', region_name=AWS_REGION)\n",
    "\n",
    "response = lambda_client.create_function(\n",
    "        FunctionName=FUNCTION_NAME,\n",
    "        Runtime=RUNTIME,\n",
    "        Role=LAMBDA_EXECUTION_ROLE_ARN,\n",
    "        Handler=HANDLER,\n",
    "        Code={'ZipFile': deployment_package},\n",
    "        Description=FUNCTION_DESCRIPTION,\n",
    "        Timeout=TIMEOUT,\n",
    "        MemorySize=MEMORY_SIZE,\n",
    "        Publish=True,  # Automatically publish the first version\n",
    "        # Add Environment variables, VPC config, etc. here if needed\n",
    "        # Environment={ 'Variables': { 'MY_VAR': 'my_value' } },\n",
    "        # VpcConfig={ 'SubnetIds': ['subnet-xxxxx'], 'SecurityGroupIds': ['sg-yyyyy'] }\n",
    "    )\n",
    "\n"
   ]
  },
  {
   "cell_type": "code",
   "execution_count": 14,
   "id": "24227130",
   "metadata": {},
   "outputs": [
    {
     "name": "stdout",
     "output_type": "stream",
     "text": [
      "\n",
      "--- Lambda Function Creation Successful ---\n",
      "Function Name: ApplicationDemoDBRetrieval\n",
      "Function ARN: arn:aws:lambda:us-west-2:058264544288:function:ApplicationDemoDBRetrieval\n",
      "Runtime: python3.12\n",
      "Handler: lambda_function.lambda_handler\n",
      "Role ARN: arn:aws:iam::058264544288:role/MyLambdaBasicExecutionRole\n",
      "Version: 1\n",
      "-----------------------------------------\n",
      "\n",
      "Use this ARN for the LAMBDA_FUNCTION_ARN in your Bedrock Agent Action Group script:\n",
      "arn:aws:lambda:us-west-2:058264544288:function:ApplicationDemoDBRetrieval\n"
     ]
    }
   ],
   "source": [
    "function_arn = response.get('FunctionArn')\n",
    "print(\"\\n--- Lambda Function Creation Successful ---\")\n",
    "print(f\"Function Name: {response.get('FunctionName')}\")\n",
    "print(f\"Function ARN: {function_arn}\")\n",
    "print(f\"Runtime: {response.get('Runtime')}\")\n",
    "print(f\"Handler: {response.get('Handler')}\")\n",
    "print(f\"Role ARN: {response.get('Role')}\")\n",
    "print(f\"Version: {response.get('Version')}\")\n",
    "print(\"-----------------------------------------\")\n",
    "print(f\"\\nUse this ARN for the LAMBDA_FUNCTION_ARN in your Bedrock Agent Action Group script:\")\n",
    "print(function_arn)"
   ]
  },
  {
   "cell_type": "code",
   "execution_count": 15,
   "id": "8c2913b1",
   "metadata": {},
   "outputs": [],
   "source": [
    "LAMBDA_FUNCTION_ARN = function_arn"
   ]
  },
  {
   "cell_type": "code",
   "execution_count": 16,
   "id": "f40e6032",
   "metadata": {},
   "outputs": [],
   "source": [
    "OPENAPI_SCHEMA = {\n",
    "    \"openapi\": \"3.0.0\",\n",
    "    \"info\": {\n",
    "        \"title\": \"Wikipedia Finder API\",\n",
    "        \"version\": \"1.0.0\"\n",
    "    },\n",
    "    \"paths\": {\n",
    "        \"/wikipedia\": {\n",
    "            \"post\": {\n",
    "                \"summary\": \"Get Wikipedia URL for celebrity\",\n",
    "                \"parameters\": [\n",
    "                    {\n",
    "                        \"name\": \"celebrity_name\",\n",
    "                        \"in\": \"query\",\n",
    "                        \"required\": True,\n",
    "                        \"schema\": {\"type\": \"string\"}\n",
    "                    }\n",
    "                ],\n",
    "                \"responses\": {\n",
    "                    \"200\": {\n",
    "                        \"description\": \"Success response\",\n",
    "                        \"content\": {\n",
    "                            \"application/json\": {\n",
    "                                \"schema\": {\n",
    "                                    \"type\": \"object\",\n",
    "                                    \"properties\": {\n",
    "                                        \"url\": {\"type\": \"string\"}\n",
    "                                    }\n",
    "                                }\n",
    "                            }\n",
    "                        }\n",
    "                    }\n",
    "                }\n",
    "            }\n",
    "        }\n",
    "    }\n",
    "}"
   ]
  },
  {
   "cell_type": "code",
   "execution_count": 17,
   "id": "805139cd",
   "metadata": {},
   "outputs": [],
   "source": [
    "ACTION_GROUP_CONFIG = [\n",
    "    {\n",
    "        'actionGroupName': 'WikipediaAPI',\n",
    "        'description': 'Fetches Wikipedia URLs using OpenAPI schema',\n",
    "        'actionGroupExecutor': {\n",
    "            'lambda': LAMBDA_FUNCTION_ARN\n",
    "        },\n",
    "        'apiSchema': {\n",
    "            'payload': json.dumps(OPENAPI_SCHEMA)  # Use S3 reference for large schemas\n",
    "        }\n",
    "    }\n",
    "]"
   ]
  },
  {
   "cell_type": "code",
   "execution_count": 20,
   "id": "421a4232",
   "metadata": {},
   "outputs": [
    {
     "name": "stdout",
     "output_type": "stream",
     "text": [
      "\n",
      "--- Agent Creation Initiated ---\n",
      "Agent Name: AppDemoAgentWKB\n",
      "Agent ID: ZEFGZNWHS0\n",
      "Agent ARN: arn:aws:bedrock:us-west-2:058264544288:agent/ZEFGZNWHS0\n",
      "Initial Status: CREATING\n",
      "------------------------------\n",
      "\n",
      "Agent creation can take a few minutes.\n",
      "Check the AWS Bedrock console for the current status.\n"
     ]
    }
   ],
   "source": [
    "response = bedrock_agent_client.create_agent(\n",
    "    agentName=AGENT_NAME,\n",
    "    agentResourceRoleArn=AGENT_EXECUTION_ROLE_ARN,\n",
    "    foundationModel=FOUNDATION_MODEL_ARN,\n",
    "    instruction=AGENT_INSTRUCTION,\n",
    "    description=AGENT_DESCRIPTION,\n",
    "    idleSessionTTLInSeconds=IDLE_SESSION_TTL_SECONDS\n",
    ")\n",
    "\n",
    "agent_details = response.get('agent', {})\n",
    "agent_id = agent_details.get('agentId')\n",
    "agent_arn = agent_details.get('agentArn')\n",
    "agent_status = agent_details.get('agentStatus')\n",
    "\n",
    "print(\"\\n--- Agent Creation Initiated ---\")\n",
    "print(f\"Agent Name: {agent_details.get('agentName')}\")\n",
    "print(f\"Agent ID: {agent_id}\")\n",
    "print(f\"Agent ARN: {agent_arn}\")\n",
    "print(f\"Initial Status: {agent_status}\")\n",
    "print(\"------------------------------\")\n",
    "print(\"\\nAgent creation can take a few minutes.\")\n",
    "print(\"Check the AWS Bedrock console for the current status.\")"
   ]
  },
  {
   "cell_type": "code",
   "execution_count": 21,
   "id": "4a758b1b",
   "metadata": {},
   "outputs": [
    {
     "name": "stdout",
     "output_type": "stream",
     "text": [
      "Current agent status: CREATING. Waiting...\n",
      "Current agent status: NOT_PREPARED. Waiting...\n",
      "Current agent status: NOT_PREPARED. Waiting...\n",
      "Current agent status: NOT_PREPARED. Waiting...\n",
      "Current agent status: NOT_PREPARED. Waiting...\n",
      "Current agent status: NOT_PREPARED. Waiting...\n",
      "Current agent status: NOT_PREPARED. Waiting...\n",
      "Current agent status: NOT_PREPARED. Waiting...\n",
      "Current agent status: NOT_PREPARED. Waiting...\n",
      "Current agent status: NOT_PREPARED. Waiting...\n",
      "\n",
      "Agent 'ZEFGZNWHS0' is now PREPARED and ready to use.\n"
     ]
    }
   ],
   "source": [
    "while agent_status not in ['PREPARED', 'FAILED']:\n",
    "    print(f\"Current agent status: {agent_status}. Waiting...\")\n",
    "    time.sleep(30) # Check every 30 seconds\n",
    "    get_agent_response = bedrock_agent_client.get_agent(agentId=agent_id)\n",
    "    agent_status = get_agent_response.get('agent', {}).get('agentStatus')\n",
    "    \n",
    "    if agent_status == 'PREPARED':\n",
    "        print(f\"\\nAgent '{agent_id}' is now PREPARED and ready to use.\")\n",
    "    elif agent_status == 'FAILED':\n",
    "        print(f\"\\nAgent '{agent_id}' FAILED preparation. Check console for details.\")\n",
    "\n"
   ]
  },
  {
   "cell_type": "code",
   "execution_count": 22,
   "id": "ee9e2e6e",
   "metadata": {},
   "outputs": [],
   "source": [
    "response = bedrock_agent_client.associate_agent_knowledge_base(\n",
    "    agentId=agent_id,\n",
    "    agentVersion='DRAFT',\n",
    "    description='string',\n",
    "    knowledgeBaseId=KNOWLEDGE_BASE_ID,\n",
    "    knowledgeBaseState='ENABLED'\n",
    ")"
   ]
  },
  {
   "cell_type": "code",
   "execution_count": null,
   "id": "7b6df878",
   "metadata": {},
   "outputs": [],
   "source": []
  }
 ],
 "metadata": {
  "kernelspec": {
   "display_name": "bedrockapp",
   "language": "python",
   "name": "python3"
  },
  "language_info": {
   "codemirror_mode": {
    "name": "ipython",
    "version": 3
   },
   "file_extension": ".py",
   "mimetype": "text/x-python",
   "name": "python",
   "nbconvert_exporter": "python",
   "pygments_lexer": "ipython3",
   "version": "3.12.0"
  }
 },
 "nbformat": 4,
 "nbformat_minor": 5
}
