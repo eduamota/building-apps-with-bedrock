{
 "cells": [
  {
   "cell_type": "markdown",
   "id": "37be889d",
   "metadata": {},
   "source": [
    "# AWS Bedrock RAG Infrastructure Setup\n",
    "\n",
    "This notebook guides you through creating AWS infrastructure for a Bedrock RAG implementation.\n",
    "**VPC creation is handled by an external script (`create_vpc_script.py`).**\n",
    "Subsequent resources (Aurora, S3, Bedrock KB) are created step-by-step in this notebook."
   ]
  },
  {
   "cell_type": "markdown",
   "id": "7dd03588",
   "metadata": {},
   "source": [
    "# 1. Imports\n",
    "Import necessary libraries"
   ]
  },
  {
   "cell_type": "code",
   "execution_count": null,
   "id": "ae5f5910",
   "metadata": {
    "vscode": {
     "languageId": "plaintext"
    }
   },
   "outputs": [],
   "source": [
    "import boto3\n",
    "import json\n",
    "from botocore.exceptions import ClientError\n",
    "import time"
   ]
  },
  {
   "cell_type": "markdown",
   "id": "b8587ced",
   "metadata": {},
   "source": [
    "# 2. Configuration\n",
    "Define configuration variables for the infrastructure."
   ]
  },
  {
   "cell_type": "code",
   "execution_count": null,
   "id": "c664ad71",
   "metadata": {
    "vscode": {
     "languageId": "plaintext"
    }
   },
   "outputs": [],
   "source": [
    "AGENT_NAME = \"AppDemoAgentWKB\"  # Choose a unique name for your agent\n",
    "KNOWLEDGE_BASE_ID = \"<YOUR_EXISTING_KNOWLEDGE_BASE_ID>\" # e.g., \"ABCDEFGHIJ\"\n",
    "KNOWLEDGE_BASE_ARN = \"<YOUR_EXISTING_KNOWLEDGE_BASE_ARN>\" # e.g., \"arn:aws:bedrock:us-east-1:123456789012:knowledge-base/ABCDEFGHIJ\"\n",
    "AGENT_EXECUTION_ROLE_ARN = \"<YOUR_AGENT_IAM_ROLE_ARN>\" # e.g., \"arn:aws:iam::123456789012:role/MyBedrockAgentRole\"\n",
    "FOUNDATION_MODEL_ARN = \"arn:aws:bedrock:us-east-1::foundation-model/anthropic.claude-v2\" # Example: Change to your desired model/region\n",
    "\n",
    "# ** OPTIONAL: Customize these values **\n",
    "AGENT_DESCRIPTION = \"Agent specialized in construction and heavy machines with access to knowledgebase and data in relationaldatabase\"\n",
    "AGENT_INSTRUCTION = \"\"\"\n",
    "You are a helpful customer support agent.\n",
    "Your goal is to answer customer questions accurately based *only* on the information provided in the attached knowledge base.\n",
    "If the knowledge base does not contain the answer, clearly state that the information is not available in the provided documents.\n",
    "Do not make up answers or use external knowledge.\n",
    "Be polite and concise.\n",
    "\"\"\"\n",
    "IDLE_SESSION_TTL_SECONDS = 1800  # 30 minutes timeout\n",
    "AWS_REGION = \"us-east-1\" # Change if your KB/resources are in a different region\n"
   ]
  },
  {
   "cell_type": "code",
   "execution_count": null,
   "id": "c6c0acbf",
   "metadata": {
    "vscode": {
     "languageId": "plaintext"
    }
   },
   "outputs": [],
   "source": [
    "try:\n",
    "    bedrock_agent_client = boto3.client('bedrock-agent', region_name=AWS_REGION)\n",
    "except Exception as e:\n",
    "    print(f\"Error creating Boto3 client: {e}\")\n",
    "    exit()"
   ]
  },
  {
   "cell_type": "code",
   "execution_count": null,
   "id": "3847e2db",
   "metadata": {
    "vscode": {
     "languageId": "plaintext"
    }
   },
   "outputs": [],
   "source": [
    "knowledge_base_configuration = [\n",
    "    {\n",
    "        'knowledgeBaseId': KNOWLEDGE_BASE_ID,\n",
    "        'description': \"Use this knowledge base to find information about product features, setup, and troubleshooting.\"\n",
    "        # Note: Retrieval configuration is set on the KB itself,\n",
    "        # but you can add specific instructions here.\n",
    "    }\n",
    "    # Add more dictionaries here if connecting multiple KBs\n",
    "]"
   ]
  },
  {
   "cell_type": "code",
   "execution_count": null,
   "id": "8c2913b1",
   "metadata": {
    "vscode": {
     "languageId": "plaintext"
    }
   },
   "outputs": [],
   "source": [
    "LAMBDA_FUNCTION_ARN = \"<YOUR_LAMBDA_ARN>\""
   ]
  },
  {
   "cell_type": "code",
   "execution_count": null,
   "id": "f40e6032",
   "metadata": {
    "vscode": {
     "languageId": "plaintext"
    }
   },
   "outputs": [],
   "source": [
    "OPENAPI_SCHEMA = {\n",
    "    \"openapi\": \"3.0.0\",\n",
    "    \"info\": {\n",
    "        \"title\": \"Wikipedia Finder API\",\n",
    "        \"version\": \"1.0.0\"\n",
    "    },\n",
    "    \"paths\": {\n",
    "        \"/wikipedia\": {\n",
    "            \"post\": {\n",
    "                \"summary\": \"Get Wikipedia URL for celebrity\",\n",
    "                \"parameters\": [\n",
    "                    {\n",
    "                        \"name\": \"celebrity_name\",\n",
    "                        \"in\": \"query\",\n",
    "                        \"required\": True,\n",
    "                        \"schema\": {\"type\": \"string\"}\n",
    "                    }\n",
    "                ],\n",
    "                \"responses\": {\n",
    "                    \"200\": {\n",
    "                        \"description\": \"Success response\",\n",
    "                        \"content\": {\n",
    "                            \"application/json\": {\n",
    "                                \"schema\": {\n",
    "                                    \"type\": \"object\",\n",
    "                                    \"properties\": {\n",
    "                                        \"url\": {\"type\": \"string\"}\n",
    "                                    }\n",
    "                                }\n",
    "                            }\n",
    "                        }\n",
    "                    }\n",
    "                }\n",
    "            }\n",
    "        }\n",
    "    }\n",
    "}"
   ]
  },
  {
   "cell_type": "code",
   "execution_count": null,
   "id": "805139cd",
   "metadata": {
    "vscode": {
     "languageId": "plaintext"
    }
   },
   "outputs": [],
   "source": [
    "ACTION_GROUP_CONFIG = [\n",
    "    {\n",
    "        'actionGroupName': 'WikipediaAPI',\n",
    "        'description': 'Fetches Wikipedia URLs using OpenAPI schema',\n",
    "        'actionGroupExecutor': {\n",
    "            'lambda': LAMBDA_FUNCTION_ARN\n",
    "        },\n",
    "        'apiSchema': {\n",
    "            'payload': json.dumps(OPENAPI_SCHEMA)  # Use S3 reference for large schemas\n",
    "        }\n",
    "    }\n",
    "]"
   ]
  },
  {
   "cell_type": "code",
   "execution_count": null,
   "id": "421a4232",
   "metadata": {
    "vscode": {
     "languageId": "plaintext"
    }
   },
   "outputs": [],
   "source": [
    "response = bedrock_agent_client.create_agent(\n",
    "    agentName=AGENT_NAME,\n",
    "    agentResourceRoleArn=AGENT_EXECUTION_ROLE_ARN,\n",
    "    foundationModel=FOUNDATION_MODEL_ARN,\n",
    "    instruction=AGENT_INSTRUCTION,\n",
    "    description=AGENT_DESCRIPTION,\n",
    "    idleSessionTTLInSeconds=IDLE_SESSION_TTL_SECONDS,\n",
    "    knowledgeBases=knowledge_base_configuration,\n",
    "    actionGroups=ACTION_GROUP_CONFIG  # Added action groups\n",
    ")\n",
    "\n",
    "agent_details = response.get('agent', {})\n",
    "agent_id = agent_details.get('agentId')\n",
    "agent_arn = agent_details.get('agentArn')\n",
    "agent_status = agent_details.get('agentStatus')\n",
    "\n",
    "print(\"\\n--- Agent Creation Initiated ---\")\n",
    "print(f\"Agent Name: {agent_details.get('agentName')}\")\n",
    "print(f\"Agent ID: {agent_id}\")\n",
    "print(f\"Agent ARN: {agent_arn}\")\n",
    "print(f\"Initial Status: {agent_status}\")\n",
    "print(\"------------------------------\")\n",
    "print(\"\\nAgent creation can take a few minutes.\")\n",
    "print(\"Check the AWS Bedrock console for the current status.\")"
   ]
  },
  {
   "cell_type": "code",
   "execution_count": null,
   "id": "4a758b1b",
   "metadata": {
    "vscode": {
     "languageId": "plaintext"
    }
   },
   "outputs": [],
   "source": [
    "while agent_status not in ['PREPARED', 'FAILED']:\n",
    "    print(f\"Current agent status: {agent_status}. Waiting...\")\n",
    "    time.sleep(30) # Check every 30 seconds\n",
    "    get_agent_response = bedrock_agent_client.get_agent(agentId=agent_id)\n",
    "    agent_status = get_agent_response.get('agent', {}).get('agentStatus')\n",
    "    \n",
    "    if agent_status == 'PREPARED':\n",
    "        print(f\"\\nAgent '{agent_id}' is now PREPARED and ready to use.\")\n",
    "    elif agent_status == 'FAILED':\n",
    "        print(f\"\\nAgent '{agent_id}' FAILED preparation. Check console for details.\")\n",
    "\n"
   ]
  }
 ],
 "metadata": {
  "language_info": {
   "name": "python"
  }
 },
 "nbformat": 4,
 "nbformat_minor": 5
}
